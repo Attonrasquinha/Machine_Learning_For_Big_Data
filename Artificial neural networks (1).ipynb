{
 "cells": [
  {
   "cell_type": "code",
   "execution_count": 12,
   "metadata": {},
   "outputs": [],
   "source": [
    "import numpy as np\n",
    "import pandas as pd\n",
    "import matplotlib.pyplot as plt\n",
    "import tensorflow as tf"
   ]
  },
  {
   "cell_type": "code",
   "execution_count": 6,
   "metadata": {},
   "outputs": [
    {
     "data": {
      "text/html": [
       "<div>\n",
       "<style scoped>\n",
       "    .dataframe tbody tr th:only-of-type {\n",
       "        vertical-align: middle;\n",
       "    }\n",
       "\n",
       "    .dataframe tbody tr th {\n",
       "        vertical-align: top;\n",
       "    }\n",
       "\n",
       "    .dataframe thead th {\n",
       "        text-align: right;\n",
       "    }\n",
       "</style>\n",
       "<table border=\"1\" class=\"dataframe\">\n",
       "  <thead>\n",
       "    <tr style=\"text-align: right;\">\n",
       "      <th></th>\n",
       "      <th>RowNumber</th>\n",
       "      <th>CustomerId</th>\n",
       "      <th>Surname</th>\n",
       "      <th>CreditScore</th>\n",
       "      <th>Geography</th>\n",
       "      <th>Gender</th>\n",
       "      <th>Age</th>\n",
       "      <th>Tenure</th>\n",
       "      <th>Balance</th>\n",
       "      <th>NumOfProducts</th>\n",
       "      <th>HasCrCard</th>\n",
       "      <th>IsActiveMember</th>\n",
       "      <th>EstimatedSalary</th>\n",
       "      <th>Exited</th>\n",
       "    </tr>\n",
       "  </thead>\n",
       "  <tbody>\n",
       "    <tr>\n",
       "      <th>0</th>\n",
       "      <td>1</td>\n",
       "      <td>15634602</td>\n",
       "      <td>Hargrave</td>\n",
       "      <td>619</td>\n",
       "      <td>France</td>\n",
       "      <td>Female</td>\n",
       "      <td>42</td>\n",
       "      <td>2</td>\n",
       "      <td>0.00</td>\n",
       "      <td>1</td>\n",
       "      <td>1</td>\n",
       "      <td>1</td>\n",
       "      <td>101348.88</td>\n",
       "      <td>1</td>\n",
       "    </tr>\n",
       "    <tr>\n",
       "      <th>1</th>\n",
       "      <td>2</td>\n",
       "      <td>15647311</td>\n",
       "      <td>Hill</td>\n",
       "      <td>608</td>\n",
       "      <td>Spain</td>\n",
       "      <td>Female</td>\n",
       "      <td>41</td>\n",
       "      <td>1</td>\n",
       "      <td>83807.86</td>\n",
       "      <td>1</td>\n",
       "      <td>0</td>\n",
       "      <td>1</td>\n",
       "      <td>112542.58</td>\n",
       "      <td>0</td>\n",
       "    </tr>\n",
       "    <tr>\n",
       "      <th>2</th>\n",
       "      <td>3</td>\n",
       "      <td>15619304</td>\n",
       "      <td>Onio</td>\n",
       "      <td>502</td>\n",
       "      <td>France</td>\n",
       "      <td>Female</td>\n",
       "      <td>42</td>\n",
       "      <td>8</td>\n",
       "      <td>159660.80</td>\n",
       "      <td>3</td>\n",
       "      <td>1</td>\n",
       "      <td>0</td>\n",
       "      <td>113931.57</td>\n",
       "      <td>1</td>\n",
       "    </tr>\n",
       "    <tr>\n",
       "      <th>3</th>\n",
       "      <td>4</td>\n",
       "      <td>15701354</td>\n",
       "      <td>Boni</td>\n",
       "      <td>699</td>\n",
       "      <td>France</td>\n",
       "      <td>Female</td>\n",
       "      <td>39</td>\n",
       "      <td>1</td>\n",
       "      <td>0.00</td>\n",
       "      <td>2</td>\n",
       "      <td>0</td>\n",
       "      <td>0</td>\n",
       "      <td>93826.63</td>\n",
       "      <td>0</td>\n",
       "    </tr>\n",
       "    <tr>\n",
       "      <th>4</th>\n",
       "      <td>5</td>\n",
       "      <td>15737888</td>\n",
       "      <td>Mitchell</td>\n",
       "      <td>850</td>\n",
       "      <td>Spain</td>\n",
       "      <td>Female</td>\n",
       "      <td>43</td>\n",
       "      <td>2</td>\n",
       "      <td>125510.82</td>\n",
       "      <td>1</td>\n",
       "      <td>1</td>\n",
       "      <td>1</td>\n",
       "      <td>79084.10</td>\n",
       "      <td>0</td>\n",
       "    </tr>\n",
       "    <tr>\n",
       "      <th>5</th>\n",
       "      <td>6</td>\n",
       "      <td>15574012</td>\n",
       "      <td>Chu</td>\n",
       "      <td>645</td>\n",
       "      <td>Spain</td>\n",
       "      <td>Male</td>\n",
       "      <td>44</td>\n",
       "      <td>8</td>\n",
       "      <td>113755.78</td>\n",
       "      <td>2</td>\n",
       "      <td>1</td>\n",
       "      <td>0</td>\n",
       "      <td>149756.71</td>\n",
       "      <td>1</td>\n",
       "    </tr>\n",
       "    <tr>\n",
       "      <th>6</th>\n",
       "      <td>7</td>\n",
       "      <td>15592531</td>\n",
       "      <td>Bartlett</td>\n",
       "      <td>822</td>\n",
       "      <td>France</td>\n",
       "      <td>Male</td>\n",
       "      <td>50</td>\n",
       "      <td>7</td>\n",
       "      <td>0.00</td>\n",
       "      <td>2</td>\n",
       "      <td>1</td>\n",
       "      <td>1</td>\n",
       "      <td>10062.80</td>\n",
       "      <td>0</td>\n",
       "    </tr>\n",
       "  </tbody>\n",
       "</table>\n",
       "</div>"
      ],
      "text/plain": [
       "   RowNumber  CustomerId   Surname  CreditScore Geography  Gender  Age  \\\n",
       "0          1    15634602  Hargrave          619    France  Female   42   \n",
       "1          2    15647311      Hill          608     Spain  Female   41   \n",
       "2          3    15619304      Onio          502    France  Female   42   \n",
       "3          4    15701354      Boni          699    France  Female   39   \n",
       "4          5    15737888  Mitchell          850     Spain  Female   43   \n",
       "5          6    15574012       Chu          645     Spain    Male   44   \n",
       "6          7    15592531  Bartlett          822    France    Male   50   \n",
       "\n",
       "   Tenure    Balance  NumOfProducts  HasCrCard  IsActiveMember  \\\n",
       "0       2       0.00              1          1               1   \n",
       "1       1   83807.86              1          0               1   \n",
       "2       8  159660.80              3          1               0   \n",
       "3       1       0.00              2          0               0   \n",
       "4       2  125510.82              1          1               1   \n",
       "5       8  113755.78              2          1               0   \n",
       "6       7       0.00              2          1               1   \n",
       "\n",
       "   EstimatedSalary  Exited  \n",
       "0        101348.88       1  \n",
       "1        112542.58       0  \n",
       "2        113931.57       1  \n",
       "3         93826.63       0  \n",
       "4         79084.10       0  \n",
       "5        149756.71       1  \n",
       "6         10062.80       0  "
      ]
     },
     "execution_count": 6,
     "metadata": {},
     "output_type": "execute_result"
    }
   ],
   "source": [
    "df=pd.read_csv('Bank.csv')\n",
    "df.head(7)"
   ]
  },
  {
   "cell_type": "code",
   "execution_count": 3,
   "metadata": {},
   "outputs": [],
   "source": [
    "x=df.iloc[:,3:13].values\n",
    "y=df.iloc[:,13].values"
   ]
  },
  {
   "cell_type": "code",
   "execution_count": 21,
   "metadata": {},
   "outputs": [
    {
     "data": {
      "text/plain": [
       "array([[0.0000000e+00, 0.0000000e+00, 6.1900000e+02, ..., 1.0000000e+00,\n",
       "        1.0000000e+00, 1.0134888e+05],\n",
       "       [0.0000000e+00, 1.0000000e+00, 6.0800000e+02, ..., 0.0000000e+00,\n",
       "        1.0000000e+00, 1.1254258e+05],\n",
       "       [0.0000000e+00, 0.0000000e+00, 5.0200000e+02, ..., 1.0000000e+00,\n",
       "        0.0000000e+00, 1.1393157e+05],\n",
       "       ...,\n",
       "       [0.0000000e+00, 0.0000000e+00, 7.0900000e+02, ..., 0.0000000e+00,\n",
       "        1.0000000e+00, 4.2085580e+04],\n",
       "       [1.0000000e+00, 0.0000000e+00, 7.7200000e+02, ..., 1.0000000e+00,\n",
       "        0.0000000e+00, 9.2888520e+04],\n",
       "       [0.0000000e+00, 0.0000000e+00, 7.9200000e+02, ..., 1.0000000e+00,\n",
       "        0.0000000e+00, 3.8190780e+04]])"
      ]
     },
     "execution_count": 21,
     "metadata": {},
     "output_type": "execute_result"
    }
   ],
   "source": [
    "x"
   ]
  },
  {
   "cell_type": "code",
   "execution_count": 9,
   "metadata": {},
   "outputs": [
    {
     "data": {
      "text/plain": [
       "array([[619, 0, 0, ..., 1, 1, 101348.88],\n",
       "       [608, 2, 0, ..., 0, 1, 112542.58],\n",
       "       [502, 0, 0, ..., 1, 0, 113931.57],\n",
       "       ...,\n",
       "       [709, 0, 0, ..., 0, 1, 42085.58],\n",
       "       [772, 1, 1, ..., 1, 0, 92888.52],\n",
       "       [792, 0, 0, ..., 1, 0, 38190.78]], dtype=object)"
      ]
     },
     "execution_count": 9,
     "metadata": {},
     "output_type": "execute_result"
    }
   ],
   "source": [
    "from sklearn.preprocessing import LabelEncoder, OneHotEncoder\n",
    "labelencode_X1=LabelEncoder()\n",
    "x[:,1]=labelencode_X1.fit_transform(x[:,1])\n",
    "x"
   ]
  },
  {
   "cell_type": "code",
   "execution_count": 10,
   "metadata": {},
   "outputs": [
    {
     "data": {
      "text/plain": [
       "array([[619, 0, 0, ..., 1, 1, 101348.88],\n",
       "       [608, 2, 0, ..., 0, 1, 112542.58],\n",
       "       [502, 0, 0, ..., 1, 0, 113931.57],\n",
       "       ...,\n",
       "       [709, 0, 0, ..., 0, 1, 42085.58],\n",
       "       [772, 1, 1, ..., 1, 0, 92888.52],\n",
       "       [792, 0, 0, ..., 1, 0, 38190.78]], dtype=object)"
      ]
     },
     "execution_count": 10,
     "metadata": {},
     "output_type": "execute_result"
    }
   ],
   "source": [
    "from sklearn.preprocessing import LabelEncoder\n",
    "labelencode_X1=LabelEncoder()\n",
    "x[:,2]=labelencode_X1.fit_transform(x[:,2])\n",
    "x"
   ]
  },
  {
   "cell_type": "code",
   "execution_count": 11,
   "metadata": {},
   "outputs": [
    {
     "name": "stderr",
     "output_type": "stream",
     "text": [
      "C:\\ProgramData\\Anaconda3\\lib\\site-packages\\sklearn\\preprocessing\\_encoders.py:371: FutureWarning: The handling of integer data will change in version 0.22. Currently, the categories are determined based on the range [0, max(values)], while in the future they will be determined based on the unique values.\n",
      "If you want the future behaviour and silence this warning, you can specify \"categories='auto'\".\n",
      "In case you used a LabelEncoder before this OneHotEncoder to convert the categories to integers, then you can now use the OneHotEncoder directly.\n",
      "  warnings.warn(msg, FutureWarning)\n",
      "C:\\ProgramData\\Anaconda3\\lib\\site-packages\\sklearn\\preprocessing\\_encoders.py:392: DeprecationWarning: The 'categorical_features' keyword is deprecated in version 0.20 and will be removed in 0.22. You can use the ColumnTransformer instead.\n",
      "  \"use the ColumnTransformer instead.\", DeprecationWarning)\n"
     ]
    },
    {
     "data": {
      "text/plain": [
       "array([[1.0000000e+00, 0.0000000e+00, 0.0000000e+00, ..., 1.0000000e+00,\n",
       "        1.0000000e+00, 1.0134888e+05],\n",
       "       [0.0000000e+00, 0.0000000e+00, 1.0000000e+00, ..., 0.0000000e+00,\n",
       "        1.0000000e+00, 1.1254258e+05],\n",
       "       [1.0000000e+00, 0.0000000e+00, 0.0000000e+00, ..., 1.0000000e+00,\n",
       "        0.0000000e+00, 1.1393157e+05],\n",
       "       ...,\n",
       "       [1.0000000e+00, 0.0000000e+00, 0.0000000e+00, ..., 0.0000000e+00,\n",
       "        1.0000000e+00, 4.2085580e+04],\n",
       "       [0.0000000e+00, 1.0000000e+00, 0.0000000e+00, ..., 1.0000000e+00,\n",
       "        0.0000000e+00, 9.2888520e+04],\n",
       "       [1.0000000e+00, 0.0000000e+00, 0.0000000e+00, ..., 1.0000000e+00,\n",
       "        0.0000000e+00, 3.8190780e+04]])"
      ]
     },
     "execution_count": 11,
     "metadata": {},
     "output_type": "execute_result"
    }
   ],
   "source": [
    "onehotencoder=OneHotEncoder(categorical_features=[1])\n",
    "x=onehotencoder.fit_transform(x).toarray()\n",
    "x"
   ]
  },
  {
   "cell_type": "code",
   "execution_count": 13,
   "metadata": {},
   "outputs": [
    {
     "data": {
      "text/plain": [
       "array([[0.0000000e+00, 0.0000000e+00, 6.1900000e+02, ..., 1.0000000e+00,\n",
       "        1.0000000e+00, 1.0134888e+05],\n",
       "       [0.0000000e+00, 1.0000000e+00, 6.0800000e+02, ..., 0.0000000e+00,\n",
       "        1.0000000e+00, 1.1254258e+05],\n",
       "       [0.0000000e+00, 0.0000000e+00, 5.0200000e+02, ..., 1.0000000e+00,\n",
       "        0.0000000e+00, 1.1393157e+05],\n",
       "       ...,\n",
       "       [0.0000000e+00, 0.0000000e+00, 7.0900000e+02, ..., 0.0000000e+00,\n",
       "        1.0000000e+00, 4.2085580e+04],\n",
       "       [1.0000000e+00, 0.0000000e+00, 7.7200000e+02, ..., 1.0000000e+00,\n",
       "        0.0000000e+00, 9.2888520e+04],\n",
       "       [0.0000000e+00, 0.0000000e+00, 7.9200000e+02, ..., 1.0000000e+00,\n",
       "        0.0000000e+00, 3.8190780e+04]])"
      ]
     },
     "execution_count": 13,
     "metadata": {},
     "output_type": "execute_result"
    }
   ],
   "source": [
    "x=x[:,1:]\n",
    "x"
   ]
  },
  {
   "cell_type": "code",
   "execution_count": 14,
   "metadata": {},
   "outputs": [],
   "source": [
    "from sklearn.model_selection import train_test_split\n",
    "x_train,x_test,y_train,y_test=train_test_split(x,y,test_size=0.2,random_state=0)"
   ]
  },
  {
   "cell_type": "code",
   "execution_count": 15,
   "metadata": {},
   "outputs": [
    {
     "data": {
      "text/plain": [
       "array([[0.0000000e+00, 1.0000000e+00, 6.6700000e+02, ..., 1.0000000e+00,\n",
       "        0.0000000e+00, 1.6383064e+05],\n",
       "       [1.0000000e+00, 0.0000000e+00, 4.2700000e+02, ..., 1.0000000e+00,\n",
       "        1.0000000e+00, 5.7098000e+04],\n",
       "       [0.0000000e+00, 0.0000000e+00, 5.3500000e+02, ..., 1.0000000e+00,\n",
       "        0.0000000e+00, 1.8563076e+05],\n",
       "       ...,\n",
       "       [0.0000000e+00, 0.0000000e+00, 7.3800000e+02, ..., 1.0000000e+00,\n",
       "        0.0000000e+00, 1.8142987e+05],\n",
       "       [0.0000000e+00, 1.0000000e+00, 5.9000000e+02, ..., 1.0000000e+00,\n",
       "        1.0000000e+00, 1.4875016e+05],\n",
       "       [1.0000000e+00, 0.0000000e+00, 6.2300000e+02, ..., 1.0000000e+00,\n",
       "        0.0000000e+00, 1.1885526e+05]])"
      ]
     },
     "execution_count": 15,
     "metadata": {},
     "output_type": "execute_result"
    }
   ],
   "source": [
    "x_train"
   ]
  },
  {
   "cell_type": "code",
   "execution_count": 16,
   "metadata": {},
   "outputs": [],
   "source": [
    "from sklearn.preprocessing import StandardScaler\n",
    "sc=StandardScaler()\n",
    "x_train=sc.fit_transform(x_train)\n",
    "x_test=sc.transform(x_test)"
   ]
  },
  {
   "cell_type": "code",
   "execution_count": 17,
   "metadata": {},
   "outputs": [
    {
     "data": {
      "text/plain": [
       "array([[-0.5698444 ,  1.74309049,  0.16958176, ...,  0.64259497,\n",
       "        -1.03227043,  1.10643166],\n",
       "       [ 1.75486502, -0.57369368, -2.30455945, ...,  0.64259497,\n",
       "         0.9687384 , -0.74866447],\n",
       "       [-0.5698444 , -0.57369368, -1.19119591, ...,  0.64259497,\n",
       "        -1.03227043,  1.48533467],\n",
       "       ...,\n",
       "       [-0.5698444 , -0.57369368,  0.9015152 , ...,  0.64259497,\n",
       "        -1.03227043,  1.41231994],\n",
       "       [-0.5698444 ,  1.74309049, -0.62420521, ...,  0.64259497,\n",
       "         0.9687384 ,  0.84432121],\n",
       "       [ 1.75486502, -0.57369368, -0.28401079, ...,  0.64259497,\n",
       "        -1.03227043,  0.32472465]])"
      ]
     },
     "execution_count": 17,
     "metadata": {},
     "output_type": "execute_result"
    }
   ],
   "source": [
    "x_train"
   ]
  },
  {
   "cell_type": "code",
   "execution_count": 18,
   "metadata": {},
   "outputs": [
    {
     "name": "stderr",
     "output_type": "stream",
     "text": [
      "Using TensorFlow backend.\n"
     ]
    }
   ],
   "source": [
    "#importing the keras libraries\n",
    "import keras\n",
    "from keras.models import Sequential\n",
    "from keras.layers import Dense #connection btw the layers is done using dense function"
   ]
  },
  {
   "cell_type": "code",
   "execution_count": 19,
   "metadata": {},
   "outputs": [],
   "source": [
    "#initialising the ANN\n",
    "classifier=Sequential()"
   ]
  },
  {
   "cell_type": "code",
   "execution_count": 22,
   "metadata": {},
   "outputs": [
    {
     "name": "stderr",
     "output_type": "stream",
     "text": [
      "C:\\ProgramData\\Anaconda3\\lib\\site-packages\\ipykernel_launcher.py:2: UserWarning: Update your `Dense` call to the Keras 2 API: `Dense(activation=\"relu\", input_dim=11, units=6, kernel_initializer=\"uniform\")`\n",
      "  \n"
     ]
    },
    {
     "name": "stdout",
     "output_type": "stream",
     "text": [
      "WARNING:tensorflow:From C:\\ProgramData\\Anaconda3\\lib\\site-packages\\tensorflow\\python\\framework\\op_def_library.py:263: colocate_with (from tensorflow.python.framework.ops) is deprecated and will be removed in a future version.\n",
      "Instructions for updating:\n",
      "Colocations handled automatically by placer.\n"
     ]
    }
   ],
   "source": [
    "#adding the input layer and the first hidden layer\n",
    "classifier.add(Dense(output_dim=6,init='uniform',activation='relu',input_dim=11))"
   ]
  },
  {
   "cell_type": "code",
   "execution_count": 23,
   "metadata": {},
   "outputs": [
    {
     "name": "stderr",
     "output_type": "stream",
     "text": [
      "C:\\ProgramData\\Anaconda3\\lib\\site-packages\\ipykernel_launcher.py:1: UserWarning: Update your `Dense` call to the Keras 2 API: `Dense(activation=\"relu\", units=6, kernel_initializer=\"uniform\")`\n",
      "  \"\"\"Entry point for launching an IPython kernel.\n"
     ]
    }
   ],
   "source": [
    "#adding second hidden layer\n",
    "classifier.add(Dense(output_dim=6,init='uniform',activation='relu'))"
   ]
  },
  {
   "cell_type": "code",
   "execution_count": 29,
   "metadata": {},
   "outputs": [
    {
     "name": "stderr",
     "output_type": "stream",
     "text": [
      "C:\\ProgramData\\Anaconda3\\lib\\site-packages\\ipykernel_launcher.py:2: UserWarning: Update your `Dense` call to the Keras 2 API: `Dense(activation=\"sigmoid\", units=1, kernel_initializer=\"uniform\")`\n",
      "  \n"
     ]
    }
   ],
   "source": [
    "#adding the output layer\n",
    "classifier.add(Dense(output_dim=1,init='uniform',activation='sigmoid'))"
   ]
  },
  {
   "cell_type": "code",
   "execution_count": 30,
   "metadata": {},
   "outputs": [],
   "source": [
    "classifier.compile(optimizer='adam',loss='binary_crossentropy', metrics=['accuracy'])"
   ]
  },
  {
   "cell_type": "code",
   "execution_count": 31,
   "metadata": {},
   "outputs": [
    {
     "data": {
      "text/plain": [
       "(8000, 11)"
      ]
     },
     "execution_count": 31,
     "metadata": {},
     "output_type": "execute_result"
    }
   ],
   "source": [
    "x_train.shape"
   ]
  },
  {
   "cell_type": "code",
   "execution_count": 32,
   "metadata": {},
   "outputs": [
    {
     "data": {
      "text/plain": [
       "(8000,)"
      ]
     },
     "execution_count": 32,
     "metadata": {},
     "output_type": "execute_result"
    }
   ],
   "source": [
    "y_train.shape"
   ]
  },
  {
   "cell_type": "code",
   "execution_count": 33,
   "metadata": {},
   "outputs": [
    {
     "name": "stdout",
     "output_type": "stream",
     "text": [
      "WARNING:tensorflow:From C:\\ProgramData\\Anaconda3\\lib\\site-packages\\tensorflow\\python\\ops\\math_ops.py:3066: to_int32 (from tensorflow.python.ops.math_ops) is deprecated and will be removed in a future version.\n",
      "Instructions for updating:\n",
      "Use tf.cast instead.\n"
     ]
    },
    {
     "name": "stderr",
     "output_type": "stream",
     "text": [
      "C:\\ProgramData\\Anaconda3\\lib\\site-packages\\ipykernel_launcher.py:2: UserWarning: The `nb_epoch` argument in `fit` has been renamed `epochs`.\n",
      "  \n"
     ]
    },
    {
     "name": "stdout",
     "output_type": "stream",
     "text": [
      "Epoch 1/100\n",
      "8000/8000 [==============================] - 2s 208us/step - loss: 0.5107 - acc: 0.7915\n",
      "Epoch 2/100\n",
      "8000/8000 [==============================] - 0s 60us/step - loss: 0.4571 - acc: 0.7960\n",
      "Epoch 3/100\n",
      "8000/8000 [==============================] - 0s 60us/step - loss: 0.4462 - acc: 0.7960\n",
      "Epoch 4/100\n",
      "8000/8000 [==============================] - 0s 60us/step - loss: 0.4395 - acc: 0.7960\n",
      "Epoch 5/100\n",
      "8000/8000 [==============================] - 0s 60us/step - loss: 0.4356 - acc: 0.7960\n",
      "Epoch 6/100\n",
      "8000/8000 [==============================] - 0s 60us/step - loss: 0.4332 - acc: 0.7960\n",
      "Epoch 7/100\n",
      "8000/8000 [==============================] - 0s 61us/step - loss: 0.4312 - acc: 0.7960\n",
      "Epoch 8/100\n",
      "8000/8000 [==============================] - 0s 60us/step - loss: 0.4303 - acc: 0.7960\n",
      "Epoch 9/100\n",
      "8000/8000 [==============================] - 0s 60us/step - loss: 0.4293 - acc: 0.7960\n",
      "Epoch 10/100\n",
      "8000/8000 [==============================] - 0s 60us/step - loss: 0.4278 - acc: 0.7960\n",
      "Epoch 11/100\n",
      "8000/8000 [==============================] - 0s 60us/step - loss: 0.4249 - acc: 0.7960\n",
      "Epoch 12/100\n",
      "8000/8000 [==============================] - 0s 60us/step - loss: 0.4204 - acc: 0.7995\n",
      "Epoch 13/100\n",
      "8000/8000 [==============================] - 0s 61us/step - loss: 0.4172 - acc: 0.8264\n",
      "Epoch 14/100\n",
      "8000/8000 [==============================] - 0s 61us/step - loss: 0.4147 - acc: 0.8304\n",
      "Epoch 15/100\n",
      "8000/8000 [==============================] - 0s 61us/step - loss: 0.4124 - acc: 0.8309\n",
      "Epoch 16/100\n",
      "8000/8000 [==============================] - 0s 61us/step - loss: 0.4106 - acc: 0.8312\n",
      "Epoch 17/100\n",
      "8000/8000 [==============================] - 0s 61us/step - loss: 0.4094 - acc: 0.8309\n",
      "Epoch 18/100\n",
      "8000/8000 [==============================] - 0s 61us/step - loss: 0.4080 - acc: 0.8296: 0s - loss: 0.4115 - acc\n",
      "Epoch 19/100\n",
      "8000/8000 [==============================] - 1s 68us/step - loss: 0.4062 - acc: 0.8326\n",
      "Epoch 20/100\n",
      "8000/8000 [==============================] - 1s 67us/step - loss: 0.4051 - acc: 0.8336\n",
      "Epoch 21/100\n",
      "8000/8000 [==============================] - 0s 62us/step - loss: 0.4046 - acc: 0.8330\n",
      "Epoch 22/100\n",
      "8000/8000 [==============================] - 0s 62us/step - loss: 0.4034 - acc: 0.8344\n",
      "Epoch 23/100\n",
      "8000/8000 [==============================] - 1s 66us/step - loss: 0.4030 - acc: 0.8327\n",
      "Epoch 24/100\n",
      "8000/8000 [==============================] - 1s 67us/step - loss: 0.4014 - acc: 0.8331\n",
      "Epoch 25/100\n",
      "8000/8000 [==============================] - 0s 62us/step - loss: 0.4017 - acc: 0.8327\n",
      "Epoch 26/100\n",
      "8000/8000 [==============================] - 0s 61us/step - loss: 0.4004 - acc: 0.8334\n",
      "Epoch 27/100\n",
      "8000/8000 [==============================] - 0s 61us/step - loss: 0.4002 - acc: 0.8340\n",
      "Epoch 28/100\n",
      "8000/8000 [==============================] - 0s 61us/step - loss: 0.3994 - acc: 0.8340\n",
      "Epoch 29/100\n",
      "8000/8000 [==============================] - 0s 61us/step - loss: 0.3992 - acc: 0.8341\n",
      "Epoch 30/100\n",
      "8000/8000 [==============================] - 0s 61us/step - loss: 0.3989 - acc: 0.8352\n",
      "Epoch 31/100\n",
      "8000/8000 [==============================] - 1s 66us/step - loss: 0.3980 - acc: 0.8330\n",
      "Epoch 32/100\n",
      "8000/8000 [==============================] - 0s 61us/step - loss: 0.3977 - acc: 0.8350: 0s - loss: 0.3937 - ac\n",
      "Epoch 33/100\n",
      "8000/8000 [==============================] - 1s 65us/step - loss: 0.3978 - acc: 0.8345\n",
      "Epoch 34/100\n",
      "8000/8000 [==============================] - 0s 61us/step - loss: 0.3973 - acc: 0.8354\n",
      "Epoch 35/100\n",
      "8000/8000 [==============================] - 0s 62us/step - loss: 0.3970 - acc: 0.8350\n",
      "Epoch 36/100\n",
      "8000/8000 [==============================] - 0s 61us/step - loss: 0.3970 - acc: 0.8339\n",
      "Epoch 37/100\n",
      "8000/8000 [==============================] - 0s 62us/step - loss: 0.3967 - acc: 0.8346\n",
      "Epoch 38/100\n",
      "8000/8000 [==============================] - 0s 61us/step - loss: 0.3963 - acc: 0.8350\n",
      "Epoch 39/100\n",
      "8000/8000 [==============================] - 1s 65us/step - loss: 0.3957 - acc: 0.8364\n",
      "Epoch 40/100\n",
      "8000/8000 [==============================] - 0s 61us/step - loss: 0.3954 - acc: 0.8354\n",
      "Epoch 41/100\n",
      "8000/8000 [==============================] - 1s 65us/step - loss: 0.3957 - acc: 0.8364\n",
      "Epoch 42/100\n",
      "8000/8000 [==============================] - 0s 61us/step - loss: 0.3954 - acc: 0.8340\n",
      "Epoch 43/100\n",
      "8000/8000 [==============================] - 0s 61us/step - loss: 0.3949 - acc: 0.8365\n",
      "Epoch 44/100\n",
      "8000/8000 [==============================] - 0s 61us/step - loss: 0.3945 - acc: 0.8366\n",
      "Epoch 45/100\n",
      "8000/8000 [==============================] - 0s 61us/step - loss: 0.3954 - acc: 0.8359\n",
      "Epoch 46/100\n",
      "8000/8000 [==============================] - 0s 62us/step - loss: 0.3947 - acc: 0.8370\n",
      "Epoch 47/100\n",
      "8000/8000 [==============================] - 1s 67us/step - loss: 0.3946 - acc: 0.8375\n",
      "Epoch 48/100\n",
      "8000/8000 [==============================] - 0s 61us/step - loss: 0.3943 - acc: 0.8386\n",
      "Epoch 49/100\n",
      "8000/8000 [==============================] - 0s 62us/step - loss: 0.3941 - acc: 0.8365\n",
      "Epoch 50/100\n",
      "8000/8000 [==============================] - 0s 60us/step - loss: 0.3938 - acc: 0.8361\n",
      "Epoch 51/100\n",
      "8000/8000 [==============================] - 0s 62us/step - loss: 0.3936 - acc: 0.8375\n",
      "Epoch 52/100\n",
      "8000/8000 [==============================] - 0s 62us/step - loss: 0.3929 - acc: 0.8380\n",
      "Epoch 53/100\n",
      "8000/8000 [==============================] - 1s 63us/step - loss: 0.3923 - acc: 0.8352\n",
      "Epoch 54/100\n",
      "8000/8000 [==============================] - 0s 61us/step - loss: 0.3922 - acc: 0.8371\n",
      "Epoch 55/100\n",
      "8000/8000 [==============================] - 0s 62us/step - loss: 0.3924 - acc: 0.8351\n",
      "Epoch 56/100\n",
      "8000/8000 [==============================] - 0s 60us/step - loss: 0.3917 - acc: 0.8382\n",
      "Epoch 57/100\n",
      "8000/8000 [==============================] - 0s 60us/step - loss: 0.3919 - acc: 0.8372\n",
      "Epoch 58/100\n",
      "8000/8000 [==============================] - 1s 63us/step - loss: 0.3913 - acc: 0.8382\n",
      "Epoch 59/100\n",
      "8000/8000 [==============================] - 0s 60us/step - loss: 0.3908 - acc: 0.8384\n",
      "Epoch 60/100\n",
      "8000/8000 [==============================] - 1s 63us/step - loss: 0.3902 - acc: 0.8361\n",
      "Epoch 61/100\n",
      "8000/8000 [==============================] - 0s 60us/step - loss: 0.3905 - acc: 0.8400\n",
      "Epoch 62/100\n",
      "8000/8000 [==============================] - 1s 63us/step - loss: 0.3893 - acc: 0.8376\n",
      "Epoch 63/100\n",
      "8000/8000 [==============================] - 0s 62us/step - loss: 0.3897 - acc: 0.8397\n",
      "Epoch 64/100\n",
      "8000/8000 [==============================] - 0s 62us/step - loss: 0.3893 - acc: 0.8385\n",
      "Epoch 65/100\n",
      "8000/8000 [==============================] - 0s 62us/step - loss: 0.3895 - acc: 0.8362\n",
      "Epoch 66/100\n",
      "8000/8000 [==============================] - 0s 62us/step - loss: 0.3896 - acc: 0.8361\n",
      "Epoch 67/100\n",
      "8000/8000 [==============================] - 0s 61us/step - loss: 0.3884 - acc: 0.8360\n",
      "Epoch 68/100\n",
      "8000/8000 [==============================] - 0s 60us/step - loss: 0.3894 - acc: 0.8377\n",
      "Epoch 69/100\n",
      "8000/8000 [==============================] - 0s 62us/step - loss: 0.3891 - acc: 0.8374\n",
      "Epoch 70/100\n",
      "8000/8000 [==============================] - 0s 61us/step - loss: 0.3877 - acc: 0.8389\n",
      "Epoch 71/100\n",
      "8000/8000 [==============================] - 0s 62us/step - loss: 0.3885 - acc: 0.8356\n",
      "Epoch 72/100\n",
      "8000/8000 [==============================] - 0s 62us/step - loss: 0.3884 - acc: 0.8379\n",
      "Epoch 73/100\n",
      "8000/8000 [==============================] - 1s 63us/step - loss: 0.3881 - acc: 0.8379\n",
      "Epoch 74/100\n",
      "8000/8000 [==============================] - 1s 63us/step - loss: 0.3878 - acc: 0.8385\n",
      "Epoch 75/100\n",
      "8000/8000 [==============================] - 1s 64us/step - loss: 0.3873 - acc: 0.8399\n",
      "Epoch 76/100\n",
      "8000/8000 [==============================] - 0s 61us/step - loss: 0.3866 - acc: 0.8387\n",
      "Epoch 77/100\n",
      "8000/8000 [==============================] - 1s 63us/step - loss: 0.3856 - acc: 0.8391\n",
      "Epoch 78/100\n",
      "8000/8000 [==============================] - 0s 61us/step - loss: 0.3834 - acc: 0.8425\n",
      "Epoch 79/100\n",
      "8000/8000 [==============================] - 1s 64us/step - loss: 0.3807 - acc: 0.8424\n",
      "Epoch 80/100\n",
      "8000/8000 [==============================] - 1s 63us/step - loss: 0.3742 - acc: 0.8481\n",
      "Epoch 81/100\n",
      "8000/8000 [==============================] - 0s 61us/step - loss: 0.3674 - acc: 0.8530\n",
      "Epoch 82/100\n",
      "8000/8000 [==============================] - 0s 60us/step - loss: 0.3610 - acc: 0.8572\n",
      "Epoch 83/100\n",
      "8000/8000 [==============================] - 0s 60us/step - loss: 0.3576 - acc: 0.8556\n",
      "Epoch 84/100\n",
      "8000/8000 [==============================] - 0s 60us/step - loss: 0.3547 - acc: 0.8584\n",
      "Epoch 85/100\n",
      "8000/8000 [==============================] - 0s 60us/step - loss: 0.3530 - acc: 0.8585\n",
      "Epoch 86/100\n",
      "8000/8000 [==============================] - 0s 60us/step - loss: 0.3503 - acc: 0.8591\n",
      "Epoch 87/100\n",
      "8000/8000 [==============================] - 0s 60us/step - loss: 0.3491 - acc: 0.8600\n",
      "Epoch 88/100\n",
      "8000/8000 [==============================] - 0s 59us/step - loss: 0.3473 - acc: 0.8586\n",
      "Epoch 89/100\n",
      "8000/8000 [==============================] - 0s 59us/step - loss: 0.3478 - acc: 0.8571\n",
      "Epoch 90/100\n",
      "8000/8000 [==============================] - 0s 59us/step - loss: 0.3465 - acc: 0.8592\n",
      "Epoch 91/100\n",
      "8000/8000 [==============================] - 0s 59us/step - loss: 0.3458 - acc: 0.8609\n",
      "Epoch 92/100\n",
      "8000/8000 [==============================] - 0s 57us/step - loss: 0.3453 - acc: 0.8599\n",
      "Epoch 93/100\n",
      "8000/8000 [==============================] - 0s 61us/step - loss: 0.3454 - acc: 0.8596\n",
      "Epoch 94/100\n",
      "8000/8000 [==============================] - 0s 59us/step - loss: 0.3444 - acc: 0.8622\n",
      "Epoch 95/100\n",
      "8000/8000 [==============================] - 0s 59us/step - loss: 0.3441 - acc: 0.8607\n",
      "Epoch 96/100\n",
      "8000/8000 [==============================] - 0s 59us/step - loss: 0.3442 - acc: 0.8611\n",
      "Epoch 97/100\n",
      "8000/8000 [==============================] - 0s 59us/step - loss: 0.3445 - acc: 0.8601\n",
      "Epoch 98/100\n",
      "8000/8000 [==============================] - 0s 59us/step - loss: 0.3442 - acc: 0.8599\n",
      "Epoch 99/100\n",
      "8000/8000 [==============================] - 0s 59us/step - loss: 0.3433 - acc: 0.8615\n",
      "Epoch 100/100\n",
      "8000/8000 [==============================] - 0s 59us/step - loss: 0.3440 - acc: 0.8601\n"
     ]
    },
    {
     "data": {
      "text/plain": [
       "<keras.callbacks.History at 0x2a7d821b9b0>"
      ]
     },
     "execution_count": 33,
     "metadata": {},
     "output_type": "execute_result"
    }
   ],
   "source": [
    "#fitting the Ann to the training set\n",
    "classifier.fit(x_train,y_train,batch_size=10,nb_epoch=100)"
   ]
  },
  {
   "cell_type": "code",
   "execution_count": 34,
   "metadata": {},
   "outputs": [],
   "source": [
    "#part 3 making the prediction and evaluating the model\n",
    "#predicting the test results\n",
    "y_pred=classifier.predict(x_test)\n",
    "y_pred=(y_pred>0.5)"
   ]
  },
  {
   "cell_type": "code",
   "execution_count": 35,
   "metadata": {},
   "outputs": [],
   "source": [
    "from sklearn.metrics import confusion_matrix\n",
    "cm=confusion_matrix(y_test,y_pred)"
   ]
  },
  {
   "cell_type": "code",
   "execution_count": 36,
   "metadata": {},
   "outputs": [
    {
     "data": {
      "text/plain": [
       "array([[1506,   89],\n",
       "       [ 195,  210]], dtype=int64)"
      ]
     },
     "execution_count": 36,
     "metadata": {},
     "output_type": "execute_result"
    }
   ],
   "source": [
    "cm"
   ]
  },
  {
   "cell_type": "code",
   "execution_count": 37,
   "metadata": {},
   "outputs": [
    {
     "data": {
      "text/plain": [
       "'              precision    recall  f1-score   support\\n\\n           0       0.89      0.94      0.91      1595\\n           1       0.70      0.52      0.60       405\\n\\n   micro avg       0.86      0.86      0.86      2000\\n   macro avg       0.79      0.73      0.76      2000\\nweighted avg       0.85      0.86      0.85      2000\\n'"
      ]
     },
     "execution_count": 37,
     "metadata": {},
     "output_type": "execute_result"
    }
   ],
   "source": [
    "from sklearn.metrics import classification_report\n",
    "cr=classification_report(y_test,y_pred)\n",
    "cr"
   ]
  },
  {
   "cell_type": "code",
   "execution_count": 38,
   "metadata": {},
   "outputs": [
    {
     "data": {
      "text/plain": [
       "0.858"
      ]
     },
     "execution_count": 38,
     "metadata": {},
     "output_type": "execute_result"
    }
   ],
   "source": [
    "from sklearn.metrics import accuracy_score\n",
    "accuracy_score(y_test,y_pred)"
   ]
  },
  {
   "cell_type": "code",
   "execution_count": null,
   "metadata": {},
   "outputs": [],
   "source": []
  }
 ],
 "metadata": {
  "kernelspec": {
   "display_name": "Python 3",
   "language": "python",
   "name": "python3"
  },
  "language_info": {
   "codemirror_mode": {
    "name": "ipython",
    "version": 3
   },
   "file_extension": ".py",
   "mimetype": "text/x-python",
   "name": "python",
   "nbconvert_exporter": "python",
   "pygments_lexer": "ipython3",
   "version": "3.7.4"
  }
 },
 "nbformat": 4,
 "nbformat_minor": 2
}
